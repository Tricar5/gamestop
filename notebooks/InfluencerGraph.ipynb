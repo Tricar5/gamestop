{
 "cells": [
  {
   "cell_type": "code",
   "execution_count": 1,
   "metadata": {},
   "outputs": [],
   "source": [
    "import numpy as np\n",
    "import pandas as pd\n",
    "import networkx as nx\n",
    "#import plotly.plotly as py\n",
    "from plotly.offline import download_plotlyjs, init_notebook_mode, iplot\n",
    "import plotly.graph_objs as go"
   ]
  },
  {
   "cell_type": "code",
   "execution_count": 2,
   "metadata": {},
   "outputs": [
    {
     "data": {
      "text/plain": "                    id      conversation_id              user_id  \\\n0  1349143722940919808  1169297966303260672  1169297966303260672   \n1  1349143720847953923            376727981            376727981   \n2  1349143059120881664  1320196554821668864  1320196554821668864   \n3  1349140350628220934   967494738369753216   967494738369753216   \n4  1349138601058193410             83749263             83749263   \n\n        username                                              tweet  photos  \\\n0        qod_gme  @MaryTravels78 If it’s any consolation ... it ...       0   \n1   trey50daniel  @jennkruza @RodAlzmann About to be the stimmy ...       0   \n2  marytravels78                @QOD_GME Of not, there should be...       0   \n3      dantzfrye  I start my day off everyday with 0$ But I won’...       0   \n4       tmyrbrgh       @investing_city About to to be $GME Gamestop       0   \n\n   replies_count  retweets_count  likes_count hashtags  video thumbnail  \\\n0              0               0            0       []      0         0   \n1              0               0            8       []      0         0   \n2              1               0            0       []      0         0   \n3              0               0            0  ['gme']      0         0   \n4              0               0            2       []      0         0   \n\n       parent_tweet_id                  date_time                  date_only  \\\n0  1320196554821668864  2021-01-13 02:58:24+03:00  2021-01-13 00:00:00+03:00   \n1             26795056  2021-01-13 02:58:23+03:00  2021-01-13 00:00:00+03:00   \n2  1169297966303260672  2021-01-13 02:55:45+03:00  2021-01-13 00:00:00+03:00   \n3                    0  2021-01-13 02:45:00+03:00  2021-01-13 00:00:00+03:00   \n4           2961979644  2021-01-13 02:38:02+03:00  2021-01-13 00:00:00+03:00   \n\n  quote_url                                               link  \\\n0       NaN  https://twitter.com/QOD_GME/status/13491437229...   \n1       NaN  https://twitter.com/Trey50Daniel/status/134914...   \n2       NaN  https://twitter.com/MaryTravels78/status/13491...   \n3       NaN  https://twitter.com/DantzFrye/status/134914035...   \n4       NaN  https://twitter.com/tmyrbrgh/status/1349138601...   \n\n  reply_to_scr_name             reply_to_name             parentie  \n0     MaryTravels78                 Mary Inge  1320196554821668865  \n1         jennkruza                jenn kruza             26795056  \n2           QOD_GME  QOD: Question of the Day  1169297966303260672  \n3               NaN                       NaN                    0  \n4    investing_city               Ryan Reeves           2961979644  ",
      "text/html": "<div>\n<style scoped>\n    .dataframe tbody tr th:only-of-type {\n        vertical-align: middle;\n    }\n\n    .dataframe tbody tr th {\n        vertical-align: top;\n    }\n\n    .dataframe thead th {\n        text-align: right;\n    }\n</style>\n<table border=\"1\" class=\"dataframe\">\n  <thead>\n    <tr style=\"text-align: right;\">\n      <th></th>\n      <th>id</th>\n      <th>conversation_id</th>\n      <th>user_id</th>\n      <th>username</th>\n      <th>tweet</th>\n      <th>photos</th>\n      <th>replies_count</th>\n      <th>retweets_count</th>\n      <th>likes_count</th>\n      <th>hashtags</th>\n      <th>video</th>\n      <th>thumbnail</th>\n      <th>parent_tweet_id</th>\n      <th>date_time</th>\n      <th>date_only</th>\n      <th>quote_url</th>\n      <th>link</th>\n      <th>reply_to_scr_name</th>\n      <th>reply_to_name</th>\n      <th>parentie</th>\n    </tr>\n  </thead>\n  <tbody>\n    <tr>\n      <th>0</th>\n      <td>1349143722940919808</td>\n      <td>1169297966303260672</td>\n      <td>1169297966303260672</td>\n      <td>qod_gme</td>\n      <td>@MaryTravels78 If it’s any consolation ... it ...</td>\n      <td>0</td>\n      <td>0</td>\n      <td>0</td>\n      <td>0</td>\n      <td>[]</td>\n      <td>0</td>\n      <td>0</td>\n      <td>1320196554821668864</td>\n      <td>2021-01-13 02:58:24+03:00</td>\n      <td>2021-01-13 00:00:00+03:00</td>\n      <td>NaN</td>\n      <td>https://twitter.com/QOD_GME/status/13491437229...</td>\n      <td>MaryTravels78</td>\n      <td>Mary Inge</td>\n      <td>1320196554821668865</td>\n    </tr>\n    <tr>\n      <th>1</th>\n      <td>1349143720847953923</td>\n      <td>376727981</td>\n      <td>376727981</td>\n      <td>trey50daniel</td>\n      <td>@jennkruza @RodAlzmann About to be the stimmy ...</td>\n      <td>0</td>\n      <td>0</td>\n      <td>0</td>\n      <td>8</td>\n      <td>[]</td>\n      <td>0</td>\n      <td>0</td>\n      <td>26795056</td>\n      <td>2021-01-13 02:58:23+03:00</td>\n      <td>2021-01-13 00:00:00+03:00</td>\n      <td>NaN</td>\n      <td>https://twitter.com/Trey50Daniel/status/134914...</td>\n      <td>jennkruza</td>\n      <td>jenn kruza</td>\n      <td>26795056</td>\n    </tr>\n    <tr>\n      <th>2</th>\n      <td>1349143059120881664</td>\n      <td>1320196554821668864</td>\n      <td>1320196554821668864</td>\n      <td>marytravels78</td>\n      <td>@QOD_GME Of not, there should be...</td>\n      <td>0</td>\n      <td>1</td>\n      <td>0</td>\n      <td>0</td>\n      <td>[]</td>\n      <td>0</td>\n      <td>0</td>\n      <td>1169297966303260672</td>\n      <td>2021-01-13 02:55:45+03:00</td>\n      <td>2021-01-13 00:00:00+03:00</td>\n      <td>NaN</td>\n      <td>https://twitter.com/MaryTravels78/status/13491...</td>\n      <td>QOD_GME</td>\n      <td>QOD: Question of the Day</td>\n      <td>1169297966303260672</td>\n    </tr>\n    <tr>\n      <th>3</th>\n      <td>1349140350628220934</td>\n      <td>967494738369753216</td>\n      <td>967494738369753216</td>\n      <td>dantzfrye</td>\n      <td>I start my day off everyday with 0$ But I won’...</td>\n      <td>0</td>\n      <td>0</td>\n      <td>0</td>\n      <td>0</td>\n      <td>['gme']</td>\n      <td>0</td>\n      <td>0</td>\n      <td>0</td>\n      <td>2021-01-13 02:45:00+03:00</td>\n      <td>2021-01-13 00:00:00+03:00</td>\n      <td>NaN</td>\n      <td>https://twitter.com/DantzFrye/status/134914035...</td>\n      <td>NaN</td>\n      <td>NaN</td>\n      <td>0</td>\n    </tr>\n    <tr>\n      <th>4</th>\n      <td>1349138601058193410</td>\n      <td>83749263</td>\n      <td>83749263</td>\n      <td>tmyrbrgh</td>\n      <td>@investing_city About to to be $GME Gamestop</td>\n      <td>0</td>\n      <td>0</td>\n      <td>0</td>\n      <td>2</td>\n      <td>[]</td>\n      <td>0</td>\n      <td>0</td>\n      <td>2961979644</td>\n      <td>2021-01-13 02:38:02+03:00</td>\n      <td>2021-01-13 00:00:00+03:00</td>\n      <td>NaN</td>\n      <td>https://twitter.com/tmyrbrgh/status/1349138601...</td>\n      <td>investing_city</td>\n      <td>Ryan Reeves</td>\n      <td>2961979644</td>\n    </tr>\n  </tbody>\n</table>\n</div>"
     },
     "execution_count": 2,
     "metadata": {},
     "output_type": "execute_result"
    }
   ],
   "source": [
    "\n",
    "data = pd.read_csv('/Users/andrei/PycharmProjects/TWITTER_F/data/SELECT_FINAL_F.csv',\\\n",
    "                   sep='\\t', lineterminator ='\\n')\n",
    "data.head()"
   ]
  },
  {
   "cell_type": "code",
   "execution_count": 3,
   "metadata": {},
   "outputs": [],
   "source": [
    "data = data.drop(columns= ['tweet', 'photos',\n",
    "       'replies_count', 'retweets_count', 'likes_count', 'hashtags', 'video',\n",
    "       'thumbnail'])"
   ]
  },
  {
   "cell_type": "code",
   "execution_count": 4,
   "outputs": [],
   "source": [
    "graph_base = data[data['reply_to_scr_name'].isnull() == False]"
   ],
   "metadata": {
    "collapsed": false,
    "pycharm": {
     "name": "#%%\n"
    }
   }
  },
  {
   "cell_type": "code",
   "execution_count": 5,
   "metadata": {},
   "outputs": [
    {
     "data": {
      "text/plain": "502010"
     },
     "execution_count": 5,
     "metadata": {},
     "output_type": "execute_result"
    }
   ],
   "source": [
    "A = list(graph_base['username'].unique())\n",
    "\n",
    "B = list(graph_base['reply_to_scr_name'].unique())\n",
    "\n",
    "username_list = set(A+B)\n",
    "\n",
    "len(username_list)"
   ]
  },
  {
   "cell_type": "code",
   "execution_count": 6,
   "outputs": [
    {
     "data": {
      "text/plain": "502010"
     },
     "execution_count": 6,
     "metadata": {},
     "output_type": "execute_result"
    }
   ],
   "source": [
    "l_id = [i for i in range(len(username_list))]\n",
    "\n",
    "len(l_id)"
   ],
   "metadata": {
    "collapsed": false,
    "pycharm": {
     "name": "#%%\n"
    }
   }
  },
  {
   "cell_type": "code",
   "execution_count": 7,
   "outputs": [],
   "source": [
    "#node_list.remove(np.nan)\n",
    "\n",
    "mapper = dict(zip(username_list, l_id))\n",
    "r_mapper = dict(zip(l_id,username_list))\n",
    "\n",
    "gr_data = pd.DataFrame()\n",
    "\n",
    "gr_data['FromID'] = graph_base['username'].map(mapper)\n",
    "gr_data['ToID'] = graph_base['reply_to_scr_name'].map(mapper)"
   ],
   "metadata": {
    "collapsed": false,
    "pycharm": {
     "name": "#%%\n"
    }
   }
  },
  {
   "cell_type": "code",
   "execution_count": 8,
   "outputs": [
    {
     "data": {
      "text/plain": "   FromID    ToID\n0  190486  234058\n1  236606  107536\n2  110667  432448\n4  480733   51106\n7  107536  312412",
      "text/html": "<div>\n<style scoped>\n    .dataframe tbody tr th:only-of-type {\n        vertical-align: middle;\n    }\n\n    .dataframe tbody tr th {\n        vertical-align: top;\n    }\n\n    .dataframe thead th {\n        text-align: right;\n    }\n</style>\n<table border=\"1\" class=\"dataframe\">\n  <thead>\n    <tr style=\"text-align: right;\">\n      <th></th>\n      <th>FromID</th>\n      <th>ToID</th>\n    </tr>\n  </thead>\n  <tbody>\n    <tr>\n      <th>0</th>\n      <td>190486</td>\n      <td>234058</td>\n    </tr>\n    <tr>\n      <th>1</th>\n      <td>236606</td>\n      <td>107536</td>\n    </tr>\n    <tr>\n      <th>2</th>\n      <td>110667</td>\n      <td>432448</td>\n    </tr>\n    <tr>\n      <th>4</th>\n      <td>480733</td>\n      <td>51106</td>\n    </tr>\n    <tr>\n      <th>7</th>\n      <td>107536</td>\n      <td>312412</td>\n    </tr>\n  </tbody>\n</table>\n</div>"
     },
     "execution_count": 8,
     "metadata": {},
     "output_type": "execute_result"
    }
   ],
   "source": [
    "gr_data.head()"
   ],
   "metadata": {
    "collapsed": false,
    "pycharm": {
     "name": "#%%\n"
    }
   }
  },
  {
   "cell_type": "markdown",
   "metadata": {
    "pycharm": {
     "name": "#%% md\n"
    }
   },
   "source": [
    "# Creating Graph"
   ]
  },
  {
   "cell_type": "code",
   "execution_count": 9,
   "outputs": [],
   "source": [
    "G = nx.Graph()"
   ],
   "metadata": {
    "collapsed": false,
    "pycharm": {
     "name": "#%%\n"
    }
   }
  },
  {
   "cell_type": "code",
   "execution_count": 47,
   "outputs": [],
   "source": [
    "for i in l_id:\n",
    "    G.add_node(i)"
   ],
   "metadata": {
    "collapsed": false,
    "pycharm": {
     "name": "#%%\n"
    }
   }
  },
  {
   "cell_type": "code",
   "execution_count": 48,
   "outputs": [],
   "source": [
    "for i,j in gr_data.iterrows():\n",
    "    G.add_edges_from([(j['FromID'],j[\"ToID\"])])"
   ],
   "metadata": {
    "collapsed": false,
    "pycharm": {
     "name": "#%%\n"
    }
   }
  },
  {
   "cell_type": "code",
   "execution_count": null,
   "outputs": [],
   "source": [
    "pos = nx.spring_layout(G, k=0.2, iterations=10)"
   ],
   "metadata": {
    "collapsed": false,
    "pycharm": {
     "name": "#%%\n"
    }
   }
  },
  {
   "cell_type": "code",
   "execution_count": null,
   "outputs": [],
   "source": [
    "for n, p in pos.items():\n",
    "    G.node[n]['pos'] = p"
   ],
   "metadata": {
    "collapsed": false,
    "pycharm": {
     "name": "#%%\n"
    }
   }
  },
  {
   "cell_type": "code",
   "execution_count": null,
   "outputs": [],
   "source": [
    "\n",
    "edge_trace = go.Scatter(\n",
    "    x=[],\n",
    "    y=[],\n",
    "    line=dict(width=0.5,color='#888'),\n",
    "    hoverinfo='none',\n",
    "    mode='lines')\n",
    "\n",
    "for edge in G.edges():\n",
    "    x0, y0 = G.node[edge[0]]['pos']\n",
    "    x1, y1 = G.node[edge[1]]['pos']\n",
    "    edge_trace['x'] += tuple([x0, x1, None])\n",
    "    edge_trace['y'] += tuple([y0, y1, None])"
   ],
   "metadata": {
    "collapsed": false,
    "pycharm": {
     "name": "#%%\n"
    }
   }
  },
  {
   "cell_type": "code",
   "execution_count": null,
   "outputs": [],
   "source": [
    "\n",
    "node_trace = go.Scatter(\n",
    "    x=[],\n",
    "    y=[],\n",
    "    text=[],\n",
    "    mode='markers',\n",
    "    hoverinfo='text',\n",
    "    marker=dict(\n",
    "        showscale=True,\n",
    "        colorscale='RdBu',\n",
    "        reversescale=True,\n",
    "        color=[],\n",
    "        size=15,\n",
    "        colorbar=dict(\n",
    "            thickness=10,\n",
    "            title='Node Connections',\n",
    "            xanchor='left',\n",
    "            titleside='right'\n",
    "        ),\n",
    "        line=dict(width=0)))\n",
    "\n",
    "for node in G.nodes():\n",
    "    x, y = G.node[node]['pos']\n",
    "    node_trace['x'] += tuple([x])\n",
    "    node_trace['y'] += tuple([y])\n"
   ],
   "metadata": {
    "collapsed": false,
    "pycharm": {
     "name": "#%%\n"
    }
   }
  },
  {
   "cell_type": "code",
   "execution_count": null,
   "outputs": [],
   "source": [
    "\n",
    "fig = go.Figure(data=[edge_trace, node_trace],\n",
    "             layout=go.Layout(\n",
    "                title='<br>AT&T network connections',\n",
    "                titlefont=dict(size=16),\n",
    "                showlegend=False,\n",
    "                hovermode='closest',\n",
    "                margin=dict(b=20,l=5,r=5,t=40),\n",
    "                annotations=[ dict(\n",
    "                    text=\"No. of connections\",\n",
    "                    showarrow=False,\n",
    "                    xref=\"paper\", yref=\"paper\") ],\n",
    "                xaxis=dict(showgrid=False, zeroline=False, showticklabels=False),\n",
    "                yaxis=dict(showgrid=False, zeroline=False, showticklabels=False)))\n",
    "\n",
    "iplot(fig)\n",
    "plotly.plot(fig)"
   ],
   "metadata": {
    "collapsed": false,
    "pycharm": {
     "name": "#%%\n"
    }
   }
  },
  {
   "cell_type": "code",
   "execution_count": null,
   "outputs": [],
   "source": [],
   "metadata": {
    "collapsed": false,
    "pycharm": {
     "name": "#%%\n"
    }
   }
  }
 ],
 "metadata": {
  "kernelspec": {
   "display_name": "Python 3.8",
   "language": "python",
   "name": "python3"
  },
  "language_info": {
   "codemirror_mode": {
    "name": "ipython",
    "version": 3
   },
   "file_extension": ".py",
   "mimetype": "text/x-python",
   "name": "python",
   "nbconvert_exporter": "python",
   "pygments_lexer": "ipython3",
   "version": "3.8.6"
  }
 },
 "nbformat": 4,
 "nbformat_minor": 4
}